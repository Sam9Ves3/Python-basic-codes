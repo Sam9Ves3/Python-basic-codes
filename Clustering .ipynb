{
 "cells": [
  {
   "cell_type": "code",
   "execution_count": 1,
   "metadata": {},
   "outputs": [],
   "source": [
    "#Import libraries\n",
    "import random\n",
    "import numpy as np\n",
    "import pandas as pd\n",
    "import matplotlib.pyplot as plt"
   ]
  },
  {
   "cell_type": "code",
   "execution_count": 2,
   "metadata": {},
   "outputs": [],
   "source": [
    "#Generate random data\n",
    "center1=[1,1]\n",
    "center2=[5,4]\n",
    "center3=[9,1]\n",
    "\n",
    "data1= np.random.randn(50,2) + center1\n",
    "data2= np.random.randn(50,2) + center2\n",
    "data3= np.random.randn(50,2) + center3\n",
    "\n",
    "data = np.concatenate((data1, data2, data3), axis=0)\n",
    "data = data.tolist()"
   ]
  },
  {
   "cell_type": "code",
   "execution_count": 3,
   "metadata": {},
   "outputs": [
    {
     "data": {
      "text/plain": [
       "[<matplotlib.lines.Line2D at 0x26b0ab00198>]"
      ]
     },
     "execution_count": 3,
     "metadata": {},
     "output_type": "execute_result"
    },
    {
     "data": {
      "image/png": "[encoded data removed]",
      "text/plain": [
       "<Figure size 432x288 with 1 Axes>"
      ]
     },
     "metadata": {
      "needs_background": "light"
     },
     "output_type": "display_data"
    }
   ],
   "source": [
    "#Plot data\n",
    "data_x = [x[0] for x in data]\n",
    "data_y = [x[1] for x in data]\n",
    "\n",
    "plt.plot(data_x, data_y, '+')"
   ]
  },
  {
   "cell_type": "code",
   "execution_count": 4,
   "metadata": {},
   "outputs": [
    {
     "name": "stdout",
     "output_type": "stream",
     "text": [
      "Number of clusters:  3\n",
      "Number of data:  150\n",
      "Number of features:  2\n"
     ]
    }
   ],
   "source": [
    "#Number of clusters\n",
    "k = 3\n",
    "\n",
    "#Number of data\n",
    "n=len(data)\n",
    "\n",
    "#Number of features\n",
    "c = len(data[0])\n",
    "\n",
    "print(\"Number of clusters: \", k)\n",
    "print(\"Number of data: \", n)\n",
    "print(\"Number of features: \", c)"
   ]
  },
  {
   "cell_type": "code",
   "execution_count": 5,
   "metadata": {},
   "outputs": [
    {
     "name": "stdout",
     "output_type": "stream",
     "text": [
      "Centroids:  [[1.4780631558026651, 1.2731394735471824], [0.1352161613823344, 0.8648307484155273], [7.926514640383111, -1.4716441067986583]]\n"
     ]
    }
   ],
   "source": [
    "#Pick k random points as centroids\n",
    "centroid_list= []\n",
    "\n",
    "while len(centroid_list)<k:\n",
    "    #Pick a random element for data\n",
    "    random_centroid = random.choice(data)\n",
    "    \n",
    "    if random_centroid not in centroid_list:\n",
    "        centroid_list.append(random_centroid)\n",
    "        \n",
    "print(\"Centroids: \", centroid_list)"
   ]
  },
  {
   "cell_type": "code",
   "execution_count": 6,
   "metadata": {},
   "outputs": [
    {
     "data": {
      "text/plain": [
       "[<matplotlib.lines.Line2D at 0x26b0abf6908>]"
      ]
     },
     "execution_count": 6,
     "metadata": {},
     "output_type": "execute_result"
    },
    {
     "data": {
      "image/png": "[encoded data removed]",
      "text/plain": [
       "<Figure size 432x288 with 1 Axes>"
      ]
     },
     "metadata": {
      "needs_background": "light"
     },
     "output_type": "display_data"
    }
   ],
   "source": [
    "#Plot data\n",
    "centroid_x = [x[0] for x in centroid_list]\n",
    "centroid_y = [x[1] for x in centroid_list]\n",
    "\n",
    "plt.plot(data_x, data_y, 'r.')\n",
    "plt.plot(centroid_x, centroid_y, '*')"
   ]
  },
  {
   "cell_type": "code",
   "execution_count": 7,
   "metadata": {},
   "outputs": [
    {
     "name": "stdout",
     "output_type": "stream",
     "text": [
      "[1, 0, 0, 1, 0, 0, 1, 1, 1, 1, 0, 0, 1, 0, 1, 2, 1, 0, 1, 0, 1, 0, 1, 1, 0, 1, 1, 1, 1, 1, 0, 0, 0, 0, 0, 0, 0, 0, 0, 1, 0, 0, 1, 0, 0, 0, 1, 0, 1, 1, 0, 0, 0, 0, 0, 0, 0, 0, 0, 0, 0, 0, 0, 0, 0, 0, 0, 0, 0, 0, 0, 0, 0, 2, 0, 0, 0, 0, 0, 2, 0, 2, 2, 0, 0, 0, 0, 0, 0, 0, 0, 0, 0, 0, 2, 0, 0, 0, 0, 0, 2, 2, 2, 2, 2, 2, 2, 2, 2, 2, 2, 2, 2, 2, 2, 2, 2, 2, 2, 2, 2, 2, 2, 2, 2, 2, 2, 2, 2, 2, 2, 2, 2, 2, 2, 2, 2, 2, 2, 2, 2, 2, 2, 2, 2, 2, 2, 2, 2, 2]\n"
     ]
    }
   ],
   "source": [
    "#data[0] and centroid_list[0]\n",
    "data_labels = [0]*len(data)\n",
    "\n",
    "#Iterate over all data with index_data\n",
    "for index_data in range(n):\n",
    "    min_distance = 0\n",
    "    #Iterate over all centroid with index_centroid\n",
    "    for index_centroid in range(k):\n",
    "        distance = 0\n",
    "        #Iterate over all feature with index_feature\n",
    "        for index_feature in range(c):\n",
    "            distance += (data[index_data][index_feature]- centroid_list[index_centroid][index_feature])**2.0\n",
    "        distance = distance**0.5\n",
    "        #Assign the nearest centroid by computing its distance to the centroid\n",
    "        if distance < min_distance or min_distance == 0:\n",
    "            data_labels[index_data] = index_centroid\n",
    "            min_distance = distance\n",
    "error_distance = 0\n",
    "for index_centroid in range (k):\n",
    "    for index_feature in range (c):\n",
    "        data_centroid_feature = [point_coordinate[index_feature] for point_coordinate, label in zip(data, data_labels) if label==index_centroid]\n",
    "        feature_mean = sum(data_centroid_feature)/len(data_centroid_feature)\n",
    "        error_distance += (centroid_list[index_centroid] [index_feature] - feature_mean)**2\n",
    "        centroid_list[index_centroid] [index_feature] = feature_mean\n",
    "print(data_labels)"
   ]
  },
  {
   "cell_type": "code",
   "execution_count": null,
   "metadata": {},
   "outputs": [],
   "source": []
  },
  {
   "cell_type": "code",
   "execution_count": null,
   "metadata": {},
   "outputs": [],
   "source": []
  }
 ],
 "metadata": {
  "kernelspec": {
   "display_name": "Python 3",
   "language": "python",
   "name": "python3"
  },
  "language_info": {
   "codemirror_mode": {
    "name": "ipython",
    "version": 3
   },
   "file_extension": ".py",
   "mimetype": "text/x-python",
   "name": "python",
   "nbconvert_exporter": "python",
   "pygments_lexer": "ipython3",
   "version": "3.7.1"
  }
 },
 "nbformat": 4,
 "nbformat_minor": 2
}
